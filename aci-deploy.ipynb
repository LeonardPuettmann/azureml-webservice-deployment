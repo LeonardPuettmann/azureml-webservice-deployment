{
 "cells": [
  {
   "attachments": {},
   "cell_type": "markdown",
   "metadata": {},
   "source": [
    "Example from here: https://github.com/Azure/MachineLearningNotebooks/blob/master/how-to-use-azureml/deployment/deploy-to-cloud/model-register-and-deploy.ipynb"
   ]
  },
  {
   "cell_type": "code",
   "execution_count": 10,
   "metadata": {},
   "outputs": [],
   "source": [
    "from azureml.core import Workspace, Environment \n",
    "from azureml.core.webservice import AciWebservice\n",
    "from azureml.core.model import Model, InferenceConfig\n",
    "from azureml.core.conda_dependencies import CondaDependencies\n",
    "import sklearn"
   ]
  },
  {
   "cell_type": "code",
   "execution_count": 2,
   "metadata": {},
   "outputs": [],
   "source": [
    "ws = Workspace.from_config()"
   ]
  },
  {
   "cell_type": "code",
   "execution_count": 3,
   "metadata": {},
   "outputs": [
    {
     "data": {
      "text/plain": [
       "['sklearn_regression_model.pkl']"
      ]
     },
     "execution_count": 3,
     "metadata": {},
     "output_type": "execute_result"
    }
   ],
   "source": [
    "import joblib\n",
    "from sklearn.datasets import load_diabetes\n",
    "from sklearn.linear_model import Ridge\n",
    "\n",
    "X, y = load_diabetes(return_X_y=True)\n",
    "model = Ridge().fit(X, y)\n",
    "\n",
    "joblib.dump(value=model, filename=\"sklearn_regression_model.pkl\")"
   ]
  },
  {
   "cell_type": "code",
   "execution_count": 4,
   "metadata": {},
   "outputs": [
    {
     "name": "stderr",
     "output_type": "stream",
     "text": [
      "\"datastore.upload_files\" is deprecated after version 1.0.69. Please use \"FileDatasetFactory.upload_directory\" instead. See Dataset API change notice at https://aka.ms/dataset-deprecation.\n"
     ]
    },
    {
     "name": "stdout",
     "output_type": "stream",
     "text": [
      "Uploading an estimated of 2 files\n",
      "Uploading ./labels.csv\n",
      "Uploaded ./labels.csv, 1 files out of an estimated total of 2\n",
      "Uploading ./features.csv\n",
      "Uploaded ./features.csv, 2 files out of an estimated total of 2\n",
      "Uploaded 2 files\n"
     ]
    },
    {
     "data": {
      "text/plain": [
       "$AZUREML_DATAREFERENCE_7f59f12827dd4b249376ed14346f8356"
      ]
     },
     "execution_count": 4,
     "metadata": {},
     "output_type": "execute_result"
    }
   ],
   "source": [
    "import numpy as np \n",
    "from azureml.core import Dataset \n",
    "\n",
    "np.savetxt(\"features.csv\", X, delimiter=\",\")\n",
    "np.savetxt(\"labels.csv\", y, delimiter=\",\")\n",
    "\n",
    "datastore = ws.get_default_datastore()\n",
    "datastore.upload_files(\n",
    "    files=[\"./features.csv\", \"./labels.csv\"], \n",
    "    target_path=\"sklearn-regression/\", \n",
    "    overwrite=True, \n",
    "    show_progress=True\n",
    ")"
   ]
  },
  {
   "cell_type": "code",
   "execution_count": 5,
   "metadata": {},
   "outputs": [],
   "source": [
    "input_dataset = Dataset.Tabular.from_delimited_files(path=(datastore, \"sklearn-regression/features.csv\"))\n",
    "output_dataset = Dataset.Tabular.from_delimited_files(path=(datastore, \"sklearn-regression/labels.csv\"))"
   ]
  },
  {
   "cell_type": "code",
   "execution_count": 38,
   "metadata": {},
   "outputs": [],
   "source": [
    "# create custom environment\n",
    "environment = Environment(\"sklearn-env\")\n",
    "environment.python.conda_dependencies = CondaDependencies.create(\n",
    "    conda_packages=[\"pip\"],\n",
    "    pip_packages=[\n",
    "        \"azureml-defaults\", \n",
    "        \"inference-schema[numpy-support]\", \n",
    "        \"joblib\",\n",
    "        \"numpy\",\n",
    "        \"scikit-learn\"\n",
    "    ],\n",
    ")"
   ]
  },
  {
   "cell_type": "code",
   "execution_count": null,
   "metadata": {},
   "outputs": [],
   "source": [
    "with open('score.py') as f:\n",
    "    print(f.read())"
   ]
  },
  {
   "cell_type": "code",
   "execution_count": 44,
   "metadata": {},
   "outputs": [
    {
     "name": "stdout",
     "output_type": "stream",
     "text": [
      "Registering model sklearn-regression-model\n"
     ]
    },
    {
     "name": "stderr",
     "output_type": "stream",
     "text": [
      "Failed to extract subscription information, Exception=AttributeError; 'Logger' object has no attribute 'activity_info'\n",
      "Failed to extract subscription information, Exception=AttributeError; 'Logger' object has no attribute 'activity_info'\n",
      "Failed to extract subscription information, Exception=AttributeError; 'Logger' object has no attribute 'activity_info'\n",
      "Failed to extract subscription information, Exception=AttributeError; 'Logger' object has no attribute 'activity_info'\n",
      "Failed to extract subscription information, Exception=AttributeError; 'Logger' object has no attribute 'activity_info'\n",
      "Failed to extract subscription information, Exception=AttributeError; 'Logger' object has no attribute 'activity_info'\n"
     ]
    },
    {
     "name": "stdout",
     "output_type": "stream",
     "text": [
      "Name sklearn-regression-model\n",
      "Version 5\n"
     ]
    }
   ],
   "source": [
    "# register the model \n",
    "model = Model.register(\n",
    "    workspace=ws,\n",
    "    model_name=\"sklearn-regression-model\",\n",
    "    model_path=\"./sklearn_regression_model.pkl\",\n",
    "    model_framework=Model.Framework.SCIKITLEARN,\n",
    "    model_framework_version=sklearn.__version__,\n",
    "    sample_input_dataset=input_dataset,\n",
    "    sample_output_dataset=output_dataset,\n",
    "    description=\"Ridge regression model to predict diabetes progression\",\n",
    "    tags={\"area\": \"diabetes\", \"type\": \"regression\"}\n",
    ")\n",
    "\n",
    "print(\"Name\", model.name)\n",
    "print(\"Version\", model.version)"
   ]
  },
  {
   "cell_type": "code",
   "execution_count": null,
   "metadata": {},
   "outputs": [],
   "source": [
    "service_name = \"aci-deploy\"\n",
    "\n",
    "inference_config = InferenceConfig(entry_script=\"score.py\", environment=environment)\n",
    "aci_config = AciWebservice.deploy_configuration(cpu_cores=1, memory_gb=1)"
   ]
  },
  {
   "cell_type": "code",
   "execution_count": null,
   "metadata": {},
   "outputs": [],
   "source": [
    "# test model locally\n",
    "# package = Model.package(ws, [model], inference_config)\n",
    "# package.wait_for_creation(show_output=True)"
   ]
  },
  {
   "cell_type": "code",
   "execution_count": 45,
   "metadata": {},
   "outputs": [
    {
     "name": "stderr",
     "output_type": "stream",
     "text": [
      "c:\\Users\\leopu\\OneDrive\\Programming\\Python\\azure\\sdk-v1\\lib\\site-packages\\ipykernel_launcher.py:12: FutureWarning: azureml.core.model:\n",
      "To leverage new model deployment capabilities, AzureML recommends using CLI/SDK v2 to deploy models as online endpoint, \n",
      "please refer to respective documentations \n",
      "https://docs.microsoft.com/azure/machine-learning/how-to-deploy-managed-online-endpoints /\n",
      "https://docs.microsoft.com/azure/machine-learning/how-to-attach-kubernetes-anywhere \n",
      "For more information on migration, see https://aka.ms/acimoemigration \n",
      "To disable CLI/SDK v1 deprecation warning set AZUREML_LOG_DEPRECATION_WARNING_ENABLED to 'False'\n",
      "  if sys.path[0] == \"\":\n"
     ]
    },
    {
     "name": "stdout",
     "output_type": "stream",
     "text": [
      "Tips: You can try get_logs(): https://aka.ms/debugimage#dockerlog or local deployment: https://aka.ms/debugimage#debug-locally to debug if deployment takes longer than 10 minutes.\n",
      "Running\n",
      "2023-04-09 14:36:46+02:00 Creating Container Registry if not exists.\n",
      "2023-04-09 14:36:46+02:00 Registering the environment.\n",
      "2023-04-09 14:36:47+02:00 Use the existing image.\n",
      "2023-04-09 14:36:47+02:00 Generating deployment configuration.\n",
      "2023-04-09 14:36:48+02:00 Submitting deployment to compute.\n",
      "2023-04-09 14:36:51+02:00 Checking the status of deployment aci-deploy..\n",
      "2023-04-09 14:38:22+02:00 Checking the status of inference endpoint aci-deploy.\n",
      "Succeeded\n",
      "ACI service creation operation finished, operation \"Succeeded\"\n"
     ]
    }
   ],
   "source": [
    "service_name = \"aci-deploy\"\n",
    "\n",
    "inference_config = InferenceConfig(entry_script=\"score.py\", environment=environment)\n",
    "aci_config = AciWebservice.deploy_configuration(cpu_cores=1, memory_gb=1)\n",
    "\n",
    "service = Model.deploy(\n",
    "    workspace=ws,\n",
    "    name=service_name,\n",
    "    models=[model],\n",
    "    inference_config=inference_config,\n",
    "    deployment_config=aci_config,\n",
    "    overwrite=True\n",
    ")\n",
    "service.wait_for_deployment(show_output=True)"
   ]
  },
  {
   "cell_type": "code",
   "execution_count": 46,
   "metadata": {},
   "outputs": [
    {
     "name": "stdout",
     "output_type": "stream",
     "text": [
      "/bin/bash: /azureml-envs/azureml_6f71df123ef209ef043f25f4eab57899/lib/libtinfo.so.6: no version information available (required by /bin/bash)\n",
      "/bin/bash: /azureml-envs/azureml_6f71df123ef209ef043f25f4eab57899/lib/libtinfo.so.6: no version information available (required by /bin/bash)\n",
      "/bin/bash: /azureml-envs/azureml_6f71df123ef209ef043f25f4eab57899/lib/libtinfo.so.6: no version information available (required by /bin/bash)\n",
      "/bin/bash: /azureml-envs/azureml_6f71df123ef209ef043f25f4eab57899/lib/libtinfo.so.6: no version information available (required by /bin/bash)\n",
      "2023-04-09T12:38:08,621416500+00:00 - rsyslog/run \n",
      "2023-04-09T12:38:08,622721400+00:00 - iot-server/run \n",
      "2023-04-09T12:38:08,630982500+00:00 - gunicorn/run \n",
      "2023-04-09T12:38:08,632712500+00:00 | gunicorn/run | \n",
      "bash: /azureml-envs/azureml_6f71df123ef209ef043f25f4eab57899/lib/libtinfo.so.6: no version information available (required by bash)\n",
      "2023-04-09T12:38:08,646146900+00:00 | gunicorn/run | ###############################################\n",
      "2023-04-09T12:38:08,649687300+00:00 | gunicorn/run | AzureML Container Runtime Information\n",
      "2023-04-09T12:38:08,658071100+00:00 | gunicorn/run | ###############################################\n",
      "2023-04-09T12:38:08,665599300+00:00 | gunicorn/run | \n",
      "2023-04-09T12:38:08,672497300+00:00 - nginx/run \n",
      "2023-04-09T12:38:08,678140400+00:00 | gunicorn/run | \n",
      "2023-04-09T12:38:08,692425100+00:00 | gunicorn/run | AzureML image information: openmpi4.1.0-ubuntu20.04, Materializaton Build:20230120.v2\n",
      "2023-04-09T12:38:08,702641200+00:00 | gunicorn/run | \n",
      "2023-04-09T12:38:08,710760300+00:00 | gunicorn/run | \n",
      "2023-04-09T12:38:08,719028400+00:00 | gunicorn/run | PATH environment variable: /azureml-envs/azureml_6f71df123ef209ef043f25f4eab57899/bin:/opt/miniconda/bin:/usr/local/sbin:/usr/local/bin:/usr/sbin:/usr/bin:/sbin:/bin\n",
      "2023-04-09T12:38:08,736655200+00:00 | gunicorn/run | PYTHONPATH environment variable: \n",
      "2023-04-09T12:38:08,744971300+00:00 | gunicorn/run | \n",
      "2023-04-09T12:38:08,753302900+00:00 | gunicorn/run | Pip Dependencies (before dynamic installation)\n",
      "\n",
      "EdgeHubConnectionString and IOTEDGE_IOTHUBHOSTNAME are not set. Exiting...\n",
      "/bin/bash: /azureml-envs/azureml_6f71df123ef209ef043f25f4eab57899/lib/libtinfo.so.6: no version information available (required by /bin/bash)\n",
      "2023-04-09T12:38:09,262457100+00:00 - iot-server/finish 1 0\n",
      "2023-04-09T12:38:09,267151900+00:00 - Exit code 1 is normal. Not restarting iot-server.\n",
      "adal==1.2.7\n",
      "argcomplete==2.1.2\n",
      "attrs==22.2.0\n",
      "azure-common==1.1.28\n",
      "azure-core==1.26.4\n",
      "azure-graphrbac==0.61.1\n",
      "azure-identity==1.12.0\n",
      "azure-mgmt-authorization==3.0.0\n",
      "azure-mgmt-containerregistry==10.1.0\n",
      "azure-mgmt-core==1.4.0\n",
      "azure-mgmt-keyvault==10.2.1\n",
      "azure-mgmt-resource==21.2.1\n",
      "azure-mgmt-storage==20.1.0\n",
      "azureml-core==1.49.0\n",
      "azureml-dataprep==4.9.6\n",
      "azureml-dataprep-native==38.0.0\n",
      "azureml-dataprep-rslex==2.16.4\n",
      "azureml-dataset-runtime==1.49.0\n",
      "azureml-defaults==1.49.0\n",
      "azureml-inference-server-http==0.8.3\n",
      "backports.tempfile==1.0\n",
      "backports.weakref==1.0.post1\n",
      "bcrypt==4.0.1\n",
      "cachetools==5.3.0\n",
      "certifi @ file:///croot/certifi_1671487769961/work/certifi\n",
      "cffi==1.15.1\n",
      "charset-normalizer==3.1.0\n",
      "click==8.1.3\n",
      "cloudpickle==2.2.1\n",
      "contextlib2==21.6.0\n",
      "cryptography==40.0.1\n",
      "distro==1.8.0\n",
      "docker==6.0.1\n",
      "dotnetcore2==3.1.23\n",
      "Flask==2.2.3\n",
      "Flask-Cors==3.0.10\n",
      "fusepy==3.0.1\n",
      "google-api-core==2.11.0\n",
      "google-auth==2.17.2\n",
      "googleapis-common-protos==1.59.0\n",
      "gunicorn==20.1.0\n",
      "humanfriendly==10.0\n",
      "idna==3.4\n",
      "importlib-metadata==6.2.0\n",
      "importlib-resources==5.12.0\n",
      "inference-schema==1.5.1\n",
      "isodate==0.6.1\n",
      "itsdangerous==2.1.2\n",
      "jeepney==0.8.0\n",
      "Jinja2==3.1.2\n",
      "jmespath==1.0.1\n",
      "joblib==1.2.0\n",
      "jsonpickle==2.2.0\n",
      "jsonschema==4.17.3\n",
      "knack==0.10.1\n",
      "MarkupSafe==2.1.2\n",
      "msal==1.21.0\n",
      "msal-extensions==1.0.0\n",
      "msrest==0.7.1\n",
      "msrestazure==0.6.4\n",
      "ndg-httpsclient==0.5.1\n",
      "numpy==1.23.5\n",
      "oauthlib==3.2.2\n",
      "opencensus==0.11.2\n",
      "opencensus-context==0.1.3\n",
      "opencensus-ext-azure==1.1.9\n",
      "packaging==21.3\n",
      "paramiko==2.12.0\n",
      "pathspec==0.11.1\n",
      "pkginfo==1.9.6\n",
      "pkgutil_resolve_name==1.3.10\n",
      "portalocker==2.7.0\n",
      "protobuf==4.22.1\n",
      "psutil==5.9.4\n",
      "pyarrow==9.0.0\n",
      "pyasn1==0.4.8\n",
      "pyasn1-modules==0.2.8\n",
      "pycparser==2.21\n",
      "pydantic==1.10.7\n",
      "Pygments==2.14.0\n",
      "PyJWT==2.6.0\n",
      "PyNaCl==1.5.0\n",
      "pyOpenSSL==23.1.1\n",
      "pyparsing==3.0.9\n",
      "pyrsistent==0.19.3\n",
      "PySocks==1.7.1\n",
      "python-dateutil==2.8.2\n",
      "pytz==2023.3\n",
      "PyYAML==6.0\n",
      "requests==2.28.2\n",
      "requests-oauthlib==1.3.1\n",
      "rsa==4.9\n",
      "scikit-learn==1.2.2\n",
      "scipy==1.10.1\n",
      "SecretStorage==3.3.3\n",
      "six==1.16.0\n",
      "tabulate==0.9.0\n",
      "threadpoolctl==3.1.0\n",
      "typing_extensions==4.5.0\n",
      "urllib3==1.26.15\n",
      "websocket-client==1.5.1\n",
      "Werkzeug==2.2.3\n",
      "wrapt==1.12.1\n",
      "zipp==3.15.0\n",
      "\n",
      "2023-04-09T12:38:10,774180464+00:00 | gunicorn/run | \n",
      "2023-04-09T12:38:10,776274754+00:00 | gunicorn/run | ###############################################\n",
      "2023-04-09T12:38:10,782886345+00:00 | gunicorn/run | AzureML Inference Server\n",
      "2023-04-09T12:38:10,784615276+00:00 | gunicorn/run | ###############################################\n",
      "2023-04-09T12:38:10,786294421+00:00 | gunicorn/run | \n",
      "2023-04-09T12:38:13,238863455+00:00 | gunicorn/run | Starting AzureML Inference Server HTTP.\n",
      "2023-04-09 12:38:13,781 I [78] azmlinfsrv - Loaded logging config from /azureml-envs/azureml_6f71df123ef209ef043f25f4eab57899/lib/python3.8/site-packages/azureml_inference_server_http/logging.json\n",
      "2023-04-09 12:38:14,110 I [78] gunicorn.error - Starting gunicorn 20.1.0\n",
      "2023-04-09 12:38:14,112 I [78] gunicorn.error - Listening at: http://0.0.0.0:31311 (78)\n",
      "2023-04-09 12:38:14,112 I [78] gunicorn.error - Using worker: sync\n",
      "2023-04-09 12:38:14,118 I [131] gunicorn.error - Booting worker with pid: 131\n",
      "\n",
      "Azure ML Inferencing HTTP server v0.8.3\n",
      "/azureml-envs/azureml_6f71df123ef209ef043f25f4eab57899/lib/python3.8/site-packages/azureml_inference_server_http/server/config.py:51: FutureWarning: aliases are no longer used by BaseSettings to define which environment variables to read. Instead use the \"env\" field setting. See https://pydantic-docs.helpmanual.io/usage/settings/#environment-variable-names\n",
      "\n",
      "  class AMLInferenceServerConfig(pydantic.BaseSettings):\n",
      "\n",
      "Server Settings\n",
      "---------------\n",
      "Entry Script Name: /var/azureml-app/score.py\n",
      "Model Directory: /var/azureml-app/azureml-models/sklearn-regression-model/5\n",
      "Config File: None\n",
      "Worker Count: 1\n",
      "Worker Timeout (seconds): 300\n",
      "Server Port: 31311\n",
      "Application Insights Enabled: false\n",
      "Application Insights Key: None\n",
      "Inferencing HTTP server version: azmlinfsrv/0.8.3\n",
      "CORS for the specified origins: None\n",
      "\n",
      "\n",
      "Server Routes\n",
      "---------------\n",
      "Liveness Probe: GET   127.0.0.1:31311/\n",
      "Score:          POST  127.0.0.1:31311/score\n",
      "\n",
      "2023-04-09 12:38:15,301 I [131] azmlinfsrv - AML_FLASK_ONE_COMPATIBILITY is set. Patched Flask to ensure compatibility with Flask 1.\n",
      "Initializing logger\n",
      "2023-04-09 12:38:15,307 I [131] azmlinfsrv - Starting up app insights client\n",
      "2023-04-09 12:38:15,763 I [131] azmlinfsrv.user_script - Found user script at /var/azureml-app/score.py\n",
      "2023-04-09 12:38:15,764 I [131] azmlinfsrv.user_script - run() is decorated with @input_schema. Server will invoke it with the following arguments: data.\n",
      "2023-04-09 12:38:15,764 I [131] azmlinfsrv.user_script - Invoking user's init function\n",
      "2023-04-09 12:38:17,404 I [131] azmlinfsrv.user_script - Users's init has completed successfully\n",
      "2023-04-09 12:38:17,410 I [131] azmlinfsrv.swagger - Swaggers are prepared for the following versions: [2, 3, 3.1].\n",
      "2023-04-09 12:38:17,410 I [131] azmlinfsrv - Scoring timeout is set to 60000\n",
      "2023-04-09 12:38:22,463 W [131] azmlinfsrv - x-ms-request-id header has been deprecated and will be removed from future versions of the server. Please use x-ms-client-request-id.\n",
      "2023-04-09 12:38:22,474 I [131] gunicorn.access - 127.0.0.1 - - [09/Apr/2023:12:38:22 +0000] \"GET / HTTP/1.0\" 200 7 \"-\" \"Go-http-client/1.1\"\n",
      "2023-04-09 12:38:22,480 W [131] azmlinfsrv - x-ms-request-id header has been deprecated and will be removed from future versions of the server. Please use x-ms-client-request-id.\n",
      "2023-04-09 12:38:22,480 I [131] azmlinfsrv - GET /swagger.json 200 0.621ms 2497\n",
      "2023-04-09 12:38:22,481 I [131] gunicorn.access - 127.0.0.1 - - [09/Apr/2023:12:38:22 +0000] \"GET /swagger.json HTTP/1.0\" 200 2497 \"-\" \"Go-http-client/1.1\"\n",
      "2023-04-09 12:38:26,906 W [131] azmlinfsrv - x-ms-request-id header has been deprecated and will be removed from future versions of the server. Please use x-ms-client-request-id.\n",
      "2023-04-09 12:38:26,908 I [131] gunicorn.access - 127.0.0.1 - - [09/Apr/2023:12:38:26 +0000] \"GET / HTTP/1.0\" 200 7 \"-\" \"Go-http-client/1.1\"\n",
      "2023-04-09 12:38:26,914 W [131] azmlinfsrv - x-ms-request-id header has been deprecated and will be removed from future versions of the server. Please use x-ms-client-request-id.\n",
      "2023-04-09 12:38:26,914 I [131] azmlinfsrv - GET /swagger.json 200 0.888ms 2497\n",
      "2023-04-09 12:38:26,916 I [131] gunicorn.access - 127.0.0.1 - - [09/Apr/2023:12:38:26 +0000] \"GET /swagger.json HTTP/1.0\" 200 2497 \"-\" \"Go-http-client/1.1\"\n",
      "\n"
     ]
    }
   ],
   "source": [
    "print(service.get_logs())"
   ]
  },
  {
   "cell_type": "code",
   "execution_count": 33,
   "metadata": {},
   "outputs": [],
   "source": [
    "# use this to delete the service\n",
    "# service.delete()"
   ]
  },
  {
   "cell_type": "code",
   "execution_count": 47,
   "metadata": {},
   "outputs": [
    {
     "name": "stdout",
     "output_type": "stream",
     "text": [
      "[182.67357342863968, 90.99902728640282]\n"
     ]
    }
   ],
   "source": [
    "# test the deployed model\n",
    "import json\n",
    "\n",
    "input_payload = json.dumps({\n",
    "    \"data\": X[0:2].tolist(),\n",
    "    #\"method\": \"predict\"\n",
    "})\n",
    "\n",
    "output = service.run(input_payload)\n",
    "print(output)"
   ]
  }
 ],
 "metadata": {
  "kernelspec": {
   "display_name": "sdk-v2",
   "language": "python",
   "name": "python3"
  },
  "language_info": {
   "codemirror_mode": {
    "name": "ipython",
    "version": 3
   },
   "file_extension": ".py",
   "mimetype": "text/x-python",
   "name": "python",
   "nbconvert_exporter": "python",
   "pygments_lexer": "ipython3",
   "version": "3.7.1"
  },
  "orig_nbformat": 4,
  "vscode": {
   "interpreter": {
    "hash": "bfe33097c487251eedeafaa63408004f8d78470754f1fe5fa81fc5d6624ec68a"
   }
  }
 },
 "nbformat": 4,
 "nbformat_minor": 2
}
